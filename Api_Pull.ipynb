{
 "cells": [
  {
   "cell_type": "code",
   "execution_count": 19,
   "metadata": {},
   "outputs": [],
   "source": [
    "import pandas as pd\n",
    "import requests\n",
    "import csv\n",
    "from pprint import pprint"
   ]
  },
  {
   "cell_type": "code",
   "execution_count": 20,
   "metadata": {},
   "outputs": [],
   "source": [
    "base_url = \"https://api.sportsdata.io/v3/nfl/scores/json/\"\n",
    "# trail keyapi_key = '64990b94c8ab48349e9929991dd7b950'\n",
    "api_key = 'c2dfdc1e41894c27a2bd44786e09f621'"
   ]
  },
  {
   "cell_type": "code",
   "execution_count": 21,
   "metadata": {},
   "outputs": [],
   "source": [
    "start_year = 2016\n",
    "year = start_year\n",
    "week = 1\n",
    "data_type = ['TeamGameStats','TeamSeasonStats']\n",
    "data_number = 0"
   ]
  },
  {
   "cell_type": "code",
   "execution_count": 22,
   "metadata": {},
   "outputs": [
    {
     "name": "stdout",
     "output_type": "stream",
     "text": [
      "https://api.sportsdata.io/v3/nfl/scores/json/TeamGameStats/2016REG/1?key=c2dfdc1e41894c27a2bd44786e09f621\n",
      "https://api.sportsdata.io/v3/nfl/scores/json/TeamGameStats/2016REG/1?key=c2dfdc1e41894c27a2bd44786e09f621\n",
      "https://api.sportsdata.io/v3/nfl/scores/json/TeamGameStats/2016REG/2?key=c2dfdc1e41894c27a2bd44786e09f621\n",
      "https://api.sportsdata.io/v3/nfl/scores/json/TeamGameStats/2016REG/2?key=c2dfdc1e41894c27a2bd44786e09f621\n",
      "https://api.sportsdata.io/v3/nfl/scores/json/TeamGameStats/2016REG/3?key=c2dfdc1e41894c27a2bd44786e09f621\n",
      "https://api.sportsdata.io/v3/nfl/scores/json/TeamGameStats/2016REG/3?key=c2dfdc1e41894c27a2bd44786e09f621\n",
      "https://api.sportsdata.io/v3/nfl/scores/json/TeamGameStats/2016REG/4?key=c2dfdc1e41894c27a2bd44786e09f621\n",
      "https://api.sportsdata.io/v3/nfl/scores/json/TeamGameStats/2016REG/4?key=c2dfdc1e41894c27a2bd44786e09f621\n",
      "https://api.sportsdata.io/v3/nfl/scores/json/TeamGameStats/2016REG/5?key=c2dfdc1e41894c27a2bd44786e09f621\n",
      "https://api.sportsdata.io/v3/nfl/scores/json/TeamGameStats/2016REG/5?key=c2dfdc1e41894c27a2bd44786e09f621\n",
      "https://api.sportsdata.io/v3/nfl/scores/json/TeamGameStats/2016REG/6?key=c2dfdc1e41894c27a2bd44786e09f621\n",
      "https://api.sportsdata.io/v3/nfl/scores/json/TeamGameStats/2016REG/6?key=c2dfdc1e41894c27a2bd44786e09f621\n",
      "https://api.sportsdata.io/v3/nfl/scores/json/TeamGameStats/2016REG/7?key=c2dfdc1e41894c27a2bd44786e09f621\n",
      "https://api.sportsdata.io/v3/nfl/scores/json/TeamGameStats/2016REG/7?key=c2dfdc1e41894c27a2bd44786e09f621\n",
      "https://api.sportsdata.io/v3/nfl/scores/json/TeamGameStats/2016REG/8?key=c2dfdc1e41894c27a2bd44786e09f621\n",
      "https://api.sportsdata.io/v3/nfl/scores/json/TeamGameStats/2016REG/8?key=c2dfdc1e41894c27a2bd44786e09f621\n",
      "https://api.sportsdata.io/v3/nfl/scores/json/TeamGameStats/2016REG/9?key=c2dfdc1e41894c27a2bd44786e09f621\n",
      "https://api.sportsdata.io/v3/nfl/scores/json/TeamGameStats/2016REG/9?key=c2dfdc1e41894c27a2bd44786e09f621\n",
      "https://api.sportsdata.io/v3/nfl/scores/json/TeamGameStats/2016REG/10?key=c2dfdc1e41894c27a2bd44786e09f621\n",
      "https://api.sportsdata.io/v3/nfl/scores/json/TeamGameStats/2016REG/10?key=c2dfdc1e41894c27a2bd44786e09f621\n",
      "https://api.sportsdata.io/v3/nfl/scores/json/TeamGameStats/2016REG/11?key=c2dfdc1e41894c27a2bd44786e09f621\n",
      "https://api.sportsdata.io/v3/nfl/scores/json/TeamGameStats/2016REG/11?key=c2dfdc1e41894c27a2bd44786e09f621\n",
      "https://api.sportsdata.io/v3/nfl/scores/json/TeamGameStats/2016REG/12?key=c2dfdc1e41894c27a2bd44786e09f621\n",
      "https://api.sportsdata.io/v3/nfl/scores/json/TeamGameStats/2016REG/12?key=c2dfdc1e41894c27a2bd44786e09f621\n",
      "https://api.sportsdata.io/v3/nfl/scores/json/TeamGameStats/2016REG/13?key=c2dfdc1e41894c27a2bd44786e09f621\n",
      "https://api.sportsdata.io/v3/nfl/scores/json/TeamGameStats/2016REG/13?key=c2dfdc1e41894c27a2bd44786e09f621\n",
      "https://api.sportsdata.io/v3/nfl/scores/json/TeamGameStats/2016REG/14?key=c2dfdc1e41894c27a2bd44786e09f621\n",
      "https://api.sportsdata.io/v3/nfl/scores/json/TeamGameStats/2016REG/14?key=c2dfdc1e41894c27a2bd44786e09f621\n",
      "https://api.sportsdata.io/v3/nfl/scores/json/TeamGameStats/2016REG/15?key=c2dfdc1e41894c27a2bd44786e09f621\n",
      "https://api.sportsdata.io/v3/nfl/scores/json/TeamGameStats/2016REG/15?key=c2dfdc1e41894c27a2bd44786e09f621\n",
      "https://api.sportsdata.io/v3/nfl/scores/json/TeamGameStats/2016REG/16?key=c2dfdc1e41894c27a2bd44786e09f621\n",
      "https://api.sportsdata.io/v3/nfl/scores/json/TeamGameStats/2016REG/16?key=c2dfdc1e41894c27a2bd44786e09f621\n",
      "https://api.sportsdata.io/v3/nfl/scores/json/TeamGameStats/2016REG/17?key=c2dfdc1e41894c27a2bd44786e09f621\n",
      "https://api.sportsdata.io/v3/nfl/scores/json/TeamGameStats/2016REG/17?key=c2dfdc1e41894c27a2bd44786e09f621\n",
      "https://api.sportsdata.io/v3/nfl/scores/json/TeamGameStats/2017REG/1?key=c2dfdc1e41894c27a2bd44786e09f621\n",
      "https://api.sportsdata.io/v3/nfl/scores/json/TeamGameStats/2017REG/1?key=c2dfdc1e41894c27a2bd44786e09f621\n",
      "https://api.sportsdata.io/v3/nfl/scores/json/TeamGameStats/2017REG/2?key=c2dfdc1e41894c27a2bd44786e09f621\n",
      "https://api.sportsdata.io/v3/nfl/scores/json/TeamGameStats/2017REG/2?key=c2dfdc1e41894c27a2bd44786e09f621\n",
      "https://api.sportsdata.io/v3/nfl/scores/json/TeamGameStats/2017REG/3?key=c2dfdc1e41894c27a2bd44786e09f621\n",
      "https://api.sportsdata.io/v3/nfl/scores/json/TeamGameStats/2017REG/3?key=c2dfdc1e41894c27a2bd44786e09f621\n",
      "https://api.sportsdata.io/v3/nfl/scores/json/TeamGameStats/2017REG/4?key=c2dfdc1e41894c27a2bd44786e09f621\n",
      "https://api.sportsdata.io/v3/nfl/scores/json/TeamGameStats/2017REG/4?key=c2dfdc1e41894c27a2bd44786e09f621\n",
      "https://api.sportsdata.io/v3/nfl/scores/json/TeamGameStats/2017REG/5?key=c2dfdc1e41894c27a2bd44786e09f621\n",
      "https://api.sportsdata.io/v3/nfl/scores/json/TeamGameStats/2017REG/5?key=c2dfdc1e41894c27a2bd44786e09f621\n",
      "https://api.sportsdata.io/v3/nfl/scores/json/TeamGameStats/2017REG/6?key=c2dfdc1e41894c27a2bd44786e09f621\n",
      "https://api.sportsdata.io/v3/nfl/scores/json/TeamGameStats/2017REG/6?key=c2dfdc1e41894c27a2bd44786e09f621\n",
      "https://api.sportsdata.io/v3/nfl/scores/json/TeamGameStats/2017REG/7?key=c2dfdc1e41894c27a2bd44786e09f621\n",
      "https://api.sportsdata.io/v3/nfl/scores/json/TeamGameStats/2017REG/7?key=c2dfdc1e41894c27a2bd44786e09f621\n",
      "https://api.sportsdata.io/v3/nfl/scores/json/TeamGameStats/2017REG/8?key=c2dfdc1e41894c27a2bd44786e09f621\n",
      "https://api.sportsdata.io/v3/nfl/scores/json/TeamGameStats/2017REG/8?key=c2dfdc1e41894c27a2bd44786e09f621\n",
      "https://api.sportsdata.io/v3/nfl/scores/json/TeamGameStats/2017REG/9?key=c2dfdc1e41894c27a2bd44786e09f621\n",
      "https://api.sportsdata.io/v3/nfl/scores/json/TeamGameStats/2017REG/9?key=c2dfdc1e41894c27a2bd44786e09f621\n",
      "https://api.sportsdata.io/v3/nfl/scores/json/TeamGameStats/2017REG/10?key=c2dfdc1e41894c27a2bd44786e09f621\n",
      "https://api.sportsdata.io/v3/nfl/scores/json/TeamGameStats/2017REG/10?key=c2dfdc1e41894c27a2bd44786e09f621\n",
      "https://api.sportsdata.io/v3/nfl/scores/json/TeamGameStats/2017REG/11?key=c2dfdc1e41894c27a2bd44786e09f621\n",
      "https://api.sportsdata.io/v3/nfl/scores/json/TeamGameStats/2017REG/11?key=c2dfdc1e41894c27a2bd44786e09f621\n",
      "https://api.sportsdata.io/v3/nfl/scores/json/TeamGameStats/2017REG/12?key=c2dfdc1e41894c27a2bd44786e09f621\n",
      "https://api.sportsdata.io/v3/nfl/scores/json/TeamGameStats/2017REG/12?key=c2dfdc1e41894c27a2bd44786e09f621\n",
      "https://api.sportsdata.io/v3/nfl/scores/json/TeamGameStats/2017REG/13?key=c2dfdc1e41894c27a2bd44786e09f621\n",
      "https://api.sportsdata.io/v3/nfl/scores/json/TeamGameStats/2017REG/13?key=c2dfdc1e41894c27a2bd44786e09f621\n",
      "https://api.sportsdata.io/v3/nfl/scores/json/TeamGameStats/2017REG/14?key=c2dfdc1e41894c27a2bd44786e09f621\n",
      "https://api.sportsdata.io/v3/nfl/scores/json/TeamGameStats/2017REG/14?key=c2dfdc1e41894c27a2bd44786e09f621\n",
      "https://api.sportsdata.io/v3/nfl/scores/json/TeamGameStats/2017REG/15?key=c2dfdc1e41894c27a2bd44786e09f621\n",
      "https://api.sportsdata.io/v3/nfl/scores/json/TeamGameStats/2017REG/15?key=c2dfdc1e41894c27a2bd44786e09f621\n",
      "https://api.sportsdata.io/v3/nfl/scores/json/TeamGameStats/2017REG/16?key=c2dfdc1e41894c27a2bd44786e09f621\n",
      "https://api.sportsdata.io/v3/nfl/scores/json/TeamGameStats/2017REG/16?key=c2dfdc1e41894c27a2bd44786e09f621\n",
      "https://api.sportsdata.io/v3/nfl/scores/json/TeamGameStats/2017REG/17?key=c2dfdc1e41894c27a2bd44786e09f621\n",
      "https://api.sportsdata.io/v3/nfl/scores/json/TeamGameStats/2017REG/17?key=c2dfdc1e41894c27a2bd44786e09f621\n",
      "https://api.sportsdata.io/v3/nfl/scores/json/TeamGameStats/2018REG/1?key=c2dfdc1e41894c27a2bd44786e09f621\n",
      "https://api.sportsdata.io/v3/nfl/scores/json/TeamGameStats/2018REG/1?key=c2dfdc1e41894c27a2bd44786e09f621\n",
      "https://api.sportsdata.io/v3/nfl/scores/json/TeamGameStats/2018REG/2?key=c2dfdc1e41894c27a2bd44786e09f621\n",
      "https://api.sportsdata.io/v3/nfl/scores/json/TeamGameStats/2018REG/2?key=c2dfdc1e41894c27a2bd44786e09f621\n",
      "https://api.sportsdata.io/v3/nfl/scores/json/TeamGameStats/2018REG/3?key=c2dfdc1e41894c27a2bd44786e09f621\n",
      "https://api.sportsdata.io/v3/nfl/scores/json/TeamGameStats/2018REG/3?key=c2dfdc1e41894c27a2bd44786e09f621\n",
      "https://api.sportsdata.io/v3/nfl/scores/json/TeamGameStats/2018REG/4?key=c2dfdc1e41894c27a2bd44786e09f621\n",
      "https://api.sportsdata.io/v3/nfl/scores/json/TeamGameStats/2018REG/4?key=c2dfdc1e41894c27a2bd44786e09f621\n",
      "https://api.sportsdata.io/v3/nfl/scores/json/TeamGameStats/2018REG/5?key=c2dfdc1e41894c27a2bd44786e09f621\n",
      "https://api.sportsdata.io/v3/nfl/scores/json/TeamGameStats/2018REG/5?key=c2dfdc1e41894c27a2bd44786e09f621\n"
     ]
    },
    {
     "name": "stdout",
     "output_type": "stream",
     "text": [
      "https://api.sportsdata.io/v3/nfl/scores/json/TeamGameStats/2018REG/6?key=c2dfdc1e41894c27a2bd44786e09f621\n",
      "https://api.sportsdata.io/v3/nfl/scores/json/TeamGameStats/2018REG/6?key=c2dfdc1e41894c27a2bd44786e09f621\n",
      "https://api.sportsdata.io/v3/nfl/scores/json/TeamGameStats/2018REG/7?key=c2dfdc1e41894c27a2bd44786e09f621\n",
      "https://api.sportsdata.io/v3/nfl/scores/json/TeamGameStats/2018REG/7?key=c2dfdc1e41894c27a2bd44786e09f621\n",
      "https://api.sportsdata.io/v3/nfl/scores/json/TeamGameStats/2018REG/8?key=c2dfdc1e41894c27a2bd44786e09f621\n",
      "https://api.sportsdata.io/v3/nfl/scores/json/TeamGameStats/2018REG/8?key=c2dfdc1e41894c27a2bd44786e09f621\n",
      "https://api.sportsdata.io/v3/nfl/scores/json/TeamGameStats/2018REG/9?key=c2dfdc1e41894c27a2bd44786e09f621\n",
      "https://api.sportsdata.io/v3/nfl/scores/json/TeamGameStats/2018REG/9?key=c2dfdc1e41894c27a2bd44786e09f621\n",
      "https://api.sportsdata.io/v3/nfl/scores/json/TeamGameStats/2018REG/10?key=c2dfdc1e41894c27a2bd44786e09f621\n",
      "https://api.sportsdata.io/v3/nfl/scores/json/TeamGameStats/2018REG/10?key=c2dfdc1e41894c27a2bd44786e09f621\n",
      "https://api.sportsdata.io/v3/nfl/scores/json/TeamGameStats/2018REG/11?key=c2dfdc1e41894c27a2bd44786e09f621\n",
      "https://api.sportsdata.io/v3/nfl/scores/json/TeamGameStats/2018REG/11?key=c2dfdc1e41894c27a2bd44786e09f621\n",
      "https://api.sportsdata.io/v3/nfl/scores/json/TeamGameStats/2018REG/12?key=c2dfdc1e41894c27a2bd44786e09f621\n",
      "https://api.sportsdata.io/v3/nfl/scores/json/TeamGameStats/2018REG/12?key=c2dfdc1e41894c27a2bd44786e09f621\n",
      "https://api.sportsdata.io/v3/nfl/scores/json/TeamGameStats/2018REG/13?key=c2dfdc1e41894c27a2bd44786e09f621\n",
      "https://api.sportsdata.io/v3/nfl/scores/json/TeamGameStats/2018REG/13?key=c2dfdc1e41894c27a2bd44786e09f621\n",
      "https://api.sportsdata.io/v3/nfl/scores/json/TeamGameStats/2018REG/14?key=c2dfdc1e41894c27a2bd44786e09f621\n",
      "https://api.sportsdata.io/v3/nfl/scores/json/TeamGameStats/2018REG/14?key=c2dfdc1e41894c27a2bd44786e09f621\n",
      "https://api.sportsdata.io/v3/nfl/scores/json/TeamGameStats/2018REG/15?key=c2dfdc1e41894c27a2bd44786e09f621\n",
      "https://api.sportsdata.io/v3/nfl/scores/json/TeamGameStats/2018REG/15?key=c2dfdc1e41894c27a2bd44786e09f621\n",
      "https://api.sportsdata.io/v3/nfl/scores/json/TeamGameStats/2018REG/16?key=c2dfdc1e41894c27a2bd44786e09f621\n",
      "https://api.sportsdata.io/v3/nfl/scores/json/TeamGameStats/2018REG/16?key=c2dfdc1e41894c27a2bd44786e09f621\n",
      "https://api.sportsdata.io/v3/nfl/scores/json/TeamGameStats/2018REG/17?key=c2dfdc1e41894c27a2bd44786e09f621\n",
      "https://api.sportsdata.io/v3/nfl/scores/json/TeamGameStats/2018REG/17?key=c2dfdc1e41894c27a2bd44786e09f621\n"
     ]
    }
   ],
   "source": [
    "\n",
    "while week < 19:\n",
    "    url = (f'{base_url}{data_type[data_number]}/{year}REG/{week}?key={api_key}')\n",
    "    data = requests.get(url)\n",
    "#    response = data.json()\n",
    "#    print(response)\n",
    "    keys = response[0].keys()\n",
    "    print(url)\n",
    "    \n",
    "    with open(f'CSV/{data_type[data_number]}{year}REG{week}.csv', 'w') as output_file:\n",
    "        dict_writer = csv.DictWriter(output_file, keys)\n",
    "        dict_writer.writeheader()\n",
    "        dict_writer.writerows(response)\n",
    "    print(url)\n",
    "    \n",
    "    week += 1\n",
    "    \n",
    "    if week == 18:\n",
    "        year += 1\n",
    "        week = 1\n",
    "        \n",
    "#     if year == 2019:\n",
    "#         year = start_year\n",
    "#         data_number += 1\n",
    "#         url = (f'{base_url}{data_type[data_number]}/{year}REG?key={api_key}')\n",
    "        \n",
    "    if year == 2019:\n",
    "        break"
   ]
  },
  {
   "cell_type": "code",
   "execution_count": 23,
   "metadata": {},
   "outputs": [
    {
     "name": "stdout",
     "output_type": "stream",
     "text": [
      "https://api.fantasydata.net/api/nfl/odds/json/TeamSeasonStats/2016REG?key=c2dfdc1e41894c27a2bd44786e09f621\n",
      "https://api.fantasydata.net/api/nfl/odds/json/TeamSeasonStats/2017REG?key=c2dfdc1e41894c27a2bd44786e09f621\n",
      "https://api.fantasydata.net/api/nfl/odds/json/TeamSeasonStats/2018REG?key=c2dfdc1e41894c27a2bd44786e09f621\n"
     ]
    }
   ],
   "source": [
    "#https://api.fantasydata.net/api/nfl/odds/json/TeamSeasonStats/2016REG?key=c2dfdc1e41894c27a2bd44786e09f621\n",
    "base_url = 'https://api.fantasydata.net/api/nfl/odds/json/'\n",
    "year = start_year\n",
    "data_type = ['TeamGameStats','TeamSeasonStats']\n",
    "data_number = 1\n",
    "\n",
    "while data_number < 3:\n",
    "    if data_number == 1:\n",
    "        url = (f'{base_url}TeamSeasonStats/{year}REG?key={api_key}')\n",
    "        data = requests.get(url)\n",
    "        response = data.json()\n",
    "        keys = response[0].keys()\n",
    "        year += 1\n",
    "\n",
    "        with open(f'CSV/TeamSeasonStats{year}REG.csv', 'w') as output_file:\n",
    "            dict_writer = csv.DictWriter(output_file, keys)\n",
    "            dict_writer.writeheader()\n",
    "            dict_writer.writerows(response)\n",
    "        \n",
    "        print(url)\n",
    "\n",
    "    if year == 2019:\n",
    "        break\n",
    "\n",
    "        "
   ]
  },
  {
   "cell_type": "code",
   "execution_count": 16,
   "metadata": {},
   "outputs": [
    {
     "data": {
      "text/plain": [
       "{'statusCode': 404, 'message': 'Resource not found'}"
      ]
     },
     "execution_count": 16,
     "metadata": {},
     "output_type": "execute_result"
    }
   ],
   "source": []
  },
  {
   "cell_type": "code",
   "execution_count": null,
   "metadata": {},
   "outputs": [],
   "source": []
  }
 ],
 "metadata": {
  "kernelspec": {
   "display_name": "Python 3",
   "language": "python",
   "name": "python3"
  },
  "language_info": {
   "codemirror_mode": {
    "name": "ipython",
    "version": 3
   },
   "file_extension": ".py",
   "mimetype": "text/x-python",
   "name": "python",
   "nbconvert_exporter": "python",
   "pygments_lexer": "ipython3",
   "version": "3.7.1"
  }
 },
 "nbformat": 4,
 "nbformat_minor": 2
}
