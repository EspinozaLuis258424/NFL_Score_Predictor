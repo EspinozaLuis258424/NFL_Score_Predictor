{
 "cells": [
  {
   "cell_type": "code",
   "execution_count": 1,
   "metadata": {},
   "outputs": [],
   "source": [
    "import pandas as pd\n",
    "import requests\n",
    "import csv\n",
    "from pprint import pprint"
   ]
  },
  {
   "cell_type": "code",
   "execution_count": 2,
   "metadata": {},
   "outputs": [],
   "source": [
    "base_url = \"https://api.sportsdata.io/v3/nfl/scores/json/\"\n",
    "# trail keyapi_key = '64990b94c8ab48349e9929991dd7b950'\n",
    "api_key = 'c2dfdc1e41894c27a2bd44786e09f621'"
   ]
  },
  {
   "cell_type": "code",
   "execution_count": 3,
   "metadata": {},
   "outputs": [],
   "source": [
    "start_year = 2016\n",
    "year = start_year\n",
    "week = 1\n",
    "data_type = ['TeamGameStats','TeamSeasonStats']\n",
    "data_number = 0"
   ]
  },
  {
   "cell_type": "code",
   "execution_count": 4,
   "metadata": {},
   "outputs": [
    {
     "ename": "KeyError",
     "evalue": "0",
     "output_type": "error",
     "traceback": [
      "\u001b[1;31m---------------------------------------------------------------------------\u001b[0m",
      "\u001b[1;31mKeyError\u001b[0m                                  Traceback (most recent call last)",
      "\u001b[1;32m<ipython-input-4-cde94ac2b979>\u001b[0m in \u001b[0;36m<module>\u001b[1;34m\u001b[0m\n\u001b[0;32m      5\u001b[0m     \u001b[0mresponse\u001b[0m \u001b[1;33m=\u001b[0m \u001b[0mdata\u001b[0m\u001b[1;33m.\u001b[0m\u001b[0mjson\u001b[0m\u001b[1;33m(\u001b[0m\u001b[1;33m)\u001b[0m\u001b[1;33m\u001b[0m\u001b[1;33m\u001b[0m\u001b[0m\n\u001b[0;32m      6\u001b[0m \u001b[1;31m#    print(response)\u001b[0m\u001b[1;33m\u001b[0m\u001b[1;33m\u001b[0m\u001b[1;33m\u001b[0m\u001b[0m\n\u001b[1;32m----> 7\u001b[1;33m     \u001b[0mkeys\u001b[0m \u001b[1;33m=\u001b[0m \u001b[0mresponse\u001b[0m\u001b[1;33m[\u001b[0m\u001b[1;36m0\u001b[0m\u001b[1;33m]\u001b[0m\u001b[1;33m.\u001b[0m\u001b[0mkeys\u001b[0m\u001b[1;33m(\u001b[0m\u001b[1;33m)\u001b[0m\u001b[1;33m\u001b[0m\u001b[1;33m\u001b[0m\u001b[0m\n\u001b[0m\u001b[0;32m      8\u001b[0m     \u001b[0mprint\u001b[0m\u001b[1;33m(\u001b[0m\u001b[0murl\u001b[0m\u001b[1;33m)\u001b[0m\u001b[1;33m\u001b[0m\u001b[1;33m\u001b[0m\u001b[0m\n\u001b[0;32m      9\u001b[0m \u001b[1;33m\u001b[0m\u001b[0m\n",
      "\u001b[1;31mKeyError\u001b[0m: 0"
     ]
    }
   ],
   "source": [
    "#https://api.fantasydata.net/api/nfl/odds/json/TeamGameStats/2016REG/1?key=c2dfdc1e41894c27a2bd44786e09f621\n",
    "while week < 19:\n",
    "    url = (f'https://api.fantasydata.net/api/nfl/odds/json/TeamGameStats/{year}REG/{week}?key={api_key}')\n",
    "    data = requests.get(url)\n",
    "    response = data.json()\n",
    "#    print(response)\n",
    "    keys = response[0].keys()\n",
    "    print(url)\n",
    "    \n",
    "    with open(f'CSV/TeamGameStats_{year}REG_Week{week}.csv', 'w') as output_file:\n",
    "        dict_writer = csv.DictWriter(output_file, keys)\n",
    "        dict_writer.writeheader()\n",
    "        dict_writer.writerows(response)\n",
    "    print(url)\n",
    "    \n",
    "    week += 1\n",
    "    \n",
    "    if week == 18:\n",
    "        year += 1\n",
    "        week = 1\n",
    "        \n",
    "#     if year == 2019:\n",
    "#         year = start_year\n",
    "#         data_number += 1\n",
    "#         url = (f'{base_url}{data_type[data_number]}/{year}REG?key={api_key}')\n",
    "        \n",
    "    if year == 2019:\n",
    "        break"
   ]
  },
  {
   "cell_type": "code",
   "execution_count": 5,
   "metadata": {},
   "outputs": [
    {
     "data": {
      "text/plain": [
       "{'statusCode': 401,\n",
       " 'message': 'Access denied due to invalid subscription key. Make sure to provide a valid key for an active subscription.'}"
      ]
     },
     "execution_count": 5,
     "metadata": {},
     "output_type": "execute_result"
    }
   ],
   "source": [
    "response"
   ]
  },
  {
   "cell_type": "code",
   "execution_count": 6,
   "metadata": {},
   "outputs": [
    {
     "name": "stdout",
     "output_type": "stream",
     "text": [
      "https://api.fantasydata.net/api/nfl/odds/json/TeamSeasonStats/2016REG?key=c2dfdc1e41894c27a2bd44786e09f621\n",
      "https://api.fantasydata.net/api/nfl/odds/json/TeamSeasonStats/2017REG?key=c2dfdc1e41894c27a2bd44786e09f621\n",
      "https://api.fantasydata.net/api/nfl/odds/json/TeamSeasonStats/2018REG?key=c2dfdc1e41894c27a2bd44786e09f621\n"
     ]
    }
   ],
   "source": [
    "#https://api.fantasydata.net/api/nfl/odds/json/TeamSeasonStats/2016REG?key=c2dfdc1e41894c27a2bd44786e09f621\n",
    "base_url = 'https://api.fantasydata.net/api/nfl/odds/json/'\n",
    "year = start_year\n",
    "data_type = ['TeamGameStats','TeamSeasonStats']\n",
    "data_number = 1\n",
    "\n",
    "while data_number < 3:\n",
    "    if data_number == 1:\n",
    "        url = (f'{base_url}TeamSeasonStats/{year}REG?key={api_key}')\n",
    "        data = requests.get(url)\n",
    "        response = data.json()\n",
    "        keys = response[0].keys()\n",
    "        year += 1\n",
    "\n",
    "        with open(f'CSV/TeamSeasonStats{year}REG.csv', 'w') as output_file:\n",
    "            dict_writer = csv.DictWriter(output_file, keys)\n",
    "            dict_writer.writeheader()\n",
    "            dict_writer.writerows(response)\n",
    "        \n",
    "        print(url)\n",
    "\n",
    "    if year == 2019:\n",
    "        break\n",
    "\n",
    "        "
   ]
  },
  {
   "cell_type": "code",
   "execution_count": 16,
   "metadata": {},
   "outputs": [
    {
     "data": {
      "text/plain": [
       "{'statusCode': 404, 'message': 'Resource not found'}"
      ]
     },
     "execution_count": 16,
     "metadata": {},
     "output_type": "execute_result"
    }
   ],
   "source": []
  },
  {
   "cell_type": "code",
   "execution_count": null,
   "metadata": {},
   "outputs": [],
   "source": []
  }
 ],
 "metadata": {
  "kernelspec": {
   "display_name": "Python 3",
   "language": "python",
   "name": "python3"
  },
  "language_info": {
   "codemirror_mode": {
    "name": "ipython",
    "version": 3
   },
   "file_extension": ".py",
   "mimetype": "text/x-python",
   "name": "python",
   "nbconvert_exporter": "python",
   "pygments_lexer": "ipython3",
   "version": "3.7.1"
  }
 },
 "nbformat": 4,
 "nbformat_minor": 2
}
